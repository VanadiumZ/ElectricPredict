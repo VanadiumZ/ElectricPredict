{
 "cells": [
  {
   "cell_type": "code",
   "execution_count": 2,
   "metadata": {},
   "outputs": [],
   "source": [
    "import numpy as np\n",
    "import pandas as pd\n",
    "import matplotlib.pyplot as plt\n",
    "import os"
   ]
  },
  {
   "cell_type": "markdown",
   "metadata": {},
   "source": [
    "## step 1: read data and form a comprehensive view"
   ]
  },
  {
   "cell_type": "code",
   "execution_count": 3,
   "metadata": {},
   "outputs": [
    {
     "name": "stdout",
     "output_type": "stream",
     "text": [
      "<class 'pandas.core.frame.DataFrame'>\n",
      "RangeIndex: 2877305 entries, 0 to 2877304\n",
      "Data columns (total 4 columns):\n",
      " #   Column  Dtype  \n",
      "---  ------  -----  \n",
      " 0   id      object \n",
      " 1   dt      int64  \n",
      " 2   type    int64  \n",
      " 3   target  float64\n",
      "dtypes: float64(1), int64(2), object(1)\n",
      "memory usage: 87.8+ MB\n"
     ]
    }
   ],
   "source": [
    "orgdata = pd.read_csv('dataset\\\\train.csv')\n",
    "orgdata.info()"
   ]
  },
  {
   "cell_type": "code",
   "execution_count": 4,
   "metadata": {},
   "outputs": [
    {
     "name": "stdout",
     "output_type": "stream",
     "text": [
      "5832\n"
     ]
    }
   ],
   "source": [
    "id_list = set(orgdata['id'].tolist())\n",
    "id_list = list(id_list)\n",
    "print(len(id_list))\n"
   ]
  },
  {
   "cell_type": "markdown",
   "metadata": {},
   "source": [
    "## step 2: visualization"
   ]
  },
  {
   "cell_type": "code",
   "execution_count": null,
   "metadata": {},
   "outputs": [],
   "source": []
  },
  {
   "cell_type": "code",
   "execution_count": 5,
   "metadata": {},
   "outputs": [],
   "source": [
    "train = orgdata\n",
    "test = pd.read_csv('dataset\\\\test.csv')\n",
    "\n",
    "target_mean = train[train['dt']<=20].groupby(['id'])['target'].mean().reset_index()\n",
    "\n",
    "# 4. 将target_mean作为测试集结果进行合并\n",
    "test = test.merge(target_mean, on=['id'], how='left')\n",
    "\n",
    "# 5. 保存结果文件到本地\n",
    "test[['id','dt','target']].to_csv('submit.csv', index=None)"
   ]
  },
  {
   "cell_type": "code",
   "execution_count": null,
   "metadata": {},
   "outputs": [],
   "source": []
  }
 ],
 "metadata": {
  "kernelspec": {
   "display_name": "base",
   "language": "python",
   "name": "python3"
  },
  "language_info": {
   "codemirror_mode": {
    "name": "ipython",
    "version": 3
   },
   "file_extension": ".py",
   "mimetype": "text/x-python",
   "name": "python",
   "nbconvert_exporter": "python",
   "pygments_lexer": "ipython3",
   "version": "3.11.7"
  }
 },
 "nbformat": 4,
 "nbformat_minor": 2
}
